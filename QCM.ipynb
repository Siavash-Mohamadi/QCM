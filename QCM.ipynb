{
  "nbformat": 4,
  "nbformat_minor": 0,
  "metadata": {
    "colab": {
      "provenance": []
    },
    "kernelspec": {
      "name": "python3",
      "display_name": "Python 3"
    },
    "language_info": {
      "name": "python"
    }
  },
  "cells": [
    {
      "cell_type": "markdown",
      "source": [
        "# QCM Analysis\n",
        "\n",
        "This notebook demonstrates the usage of the QCM class to analyze QCM data.\n",
        "\n",
        "## Setup\n",
        "\n",
        "First, we need to import the necessary libraries and the QCM class from the `qcm_class.py` file.\n"
      ],
      "metadata": {
        "id": "3Hggb19V5O6E"
      }
    },
    {
      "cell_type": "code",
      "execution_count": null,
      "metadata": {
        "id": "-QMwNEe_5Mqf"
      },
      "outputs": [],
      "source": [
        "# Import necessary libraries\n",
        "import pandas as pd\n",
        "import numpy as np\n",
        "import ruptures as rpt\n",
        "import scipy\n",
        "from scipy.optimize import curve_fit\n",
        "from matplotlib import pyplot as plt\n",
        "from scipy.signal import savgol_filter, butter, filtfilt\n",
        "\n",
        "# Import the QCM class from qcm_class.py\n",
        "from src.qcm_class import QCM\n"
      ]
    },
    {
      "cell_type": "markdown",
      "source": [
        "## Load Data and Initialize QCM\n",
        "\n",
        "Load the data from the Excel file and create an instance of the QCM class.\n"
      ],
      "metadata": {
        "id": "ahRzc5E85Ve7"
      }
    },
    {
      "cell_type": "code",
      "source": [
        "# Load the data\n",
        "df = pd.read_excel('data/c8 high3.xlsx')\n",
        "\n",
        "# Create an instance of the QCM class\n",
        "qcm = QCM(data=df, smoothing=True, time_span=1100, lowpass_freq=0.001)\n"
      ],
      "metadata": {
        "id": "m-lhmcBu5W6U"
      },
      "execution_count": null,
      "outputs": []
    },
    {
      "cell_type": "markdown",
      "source": [
        "## Plot Raw Data\n",
        "\n",
        "Visualize the raw data before any processing.\n"
      ],
      "metadata": {
        "id": "T0cPAGtx5gMd"
      }
    },
    {
      "cell_type": "code",
      "source": [
        "# Plot raw data\n",
        "qcm.plot_raw()"
      ],
      "metadata": {
        "id": "aFk8qRR45g1c"
      },
      "execution_count": null,
      "outputs": []
    },
    {
      "cell_type": "markdown",
      "source": [
        "## Baseline Correction\n",
        "\n",
        "Correct the baseline of the data. Select a range as the baseline. This function will perform a linear correcction based on the selcted baseline's slope\n"
      ],
      "metadata": {
        "id": "MJ0Q_aDg5j4U"
      }
    },
    {
      "cell_type": "code",
      "source": [
        "# Perform baseline correction\n",
        "qcm.baseline_correction(870, 880)"
      ],
      "metadata": {
        "id": "CyANn4vl5m6k"
      },
      "execution_count": null,
      "outputs": []
    },
    {
      "cell_type": "markdown",
      "source": [
        "## Pre-Cut Data\n",
        "\n",
        "Cut the data to a specific time range. Here you should select a range that contains the ramping signal.\n"
      ],
      "metadata": {
        "id": "AbUZvOBS5rGs"
      }
    },
    {
      "cell_type": "code",
      "source": [
        "# Pre-cut the data\n",
        "qcm.pre_cut(860, 915)"
      ],
      "metadata": {
        "id": "zYJ3Bt9j5u0s"
      },
      "execution_count": null,
      "outputs": []
    },
    {
      "cell_type": "markdown",
      "source": [
        "## Finding the changing point in signal\n",
        "Find the change point based on the first derivative of the signal and plot the derivative curves and change points.\n"
      ],
      "metadata": {
        "id": "19jN-vV-5xC9"
      }
    },
    {
      "cell_type": "code",
      "source": [
        "# Adjust the baseline\n",
        "qcm.change_point_detection()"
      ],
      "metadata": {
        "id": "fyTDzHaU504c"
      },
      "execution_count": null,
      "outputs": []
    },
    {
      "cell_type": "markdown",
      "source": [
        "## Baseline Cut\n",
        "\n",
        "Cut the data based on the changing points.\n"
      ],
      "metadata": {
        "id": "E2kAUE7V529k"
      }
    },
    {
      "cell_type": "code",
      "source": [
        "# Perform baseline cut\n",
        "qcm.baseline_cut()"
      ],
      "metadata": {
        "id": "AviUBG0Z56ZM"
      },
      "execution_count": null,
      "outputs": []
    },
    {
      "cell_type": "markdown",
      "source": [
        "## Fit and Plot Model\n",
        "\n",
        "Fit the selected model to the data and plot the results.\n"
      ],
      "metadata": {
        "id": "f9zQdKy_59C-"
      }
    },
    {
      "cell_type": "code",
      "source": [
        "# Fit the model and plot the results\n",
        "qcm.fit_and_plot(save=False, model_name='Boltzmann Sigmoidal (Free Start)')"
      ],
      "metadata": {
        "id": "2cPex5yE5_cO"
      },
      "execution_count": null,
      "outputs": []
    },
    {
      "cell_type": "markdown",
      "source": [
        "## Save Final Data\n",
        "\n",
        "Save the processed data to a CSV file."
      ],
      "metadata": {
        "id": "KxIiV4y66C-O"
      }
    },
    {
      "cell_type": "code",
      "source": [
        "# Save the final data\n",
        "df.to_csv(\"data/Final_data.csv\")"
      ],
      "metadata": {
        "id": "n2BuLrc76FWW"
      },
      "execution_count": null,
      "outputs": []
    }
  ]
}
